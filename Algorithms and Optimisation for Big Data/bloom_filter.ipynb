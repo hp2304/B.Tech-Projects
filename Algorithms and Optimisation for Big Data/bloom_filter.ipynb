{
 "cells": [
  {
   "cell_type": "code",
   "execution_count": null,
   "metadata": {
    "colab": {
     "base_uri": "https://localhost:8080/",
     "height": 451
    },
    "colab_type": "code",
    "executionInfo": {
     "elapsed": 29697,
     "status": "ok",
     "timestamp": 1553701713566,
     "user": {
      "displayName": "HITARTH PANCHAL",
      "photoUrl": "",
      "userId": "00542162096010009427"
     },
     "user_tz": -330
    },
    "id": "FHfqVbmXLmkS",
    "outputId": "ca89d143-de43-4df0-d8a3-79b3c17f0e1b"
   },
   "outputs": [
    {
     "name": "stdout",
     "output_type": "stream",
     "text": [
      "Collecting mmh3\n",
      "  Downloading https://files.pythonhosted.org/packages/fa/7e/3ddcab0a9fcea034212c02eb411433db9330e34d626360b97333368b4052/mmh3-2.5.1.tar.gz\n",
      "Building wheels for collected packages: mmh3\n",
      "  Building wheel for mmh3 (setup.py) ... \u001b[?25ldone\n",
      "\u001b[?25h  Stored in directory: /root/.cache/pip/wheels/38/b4/ea/6e4e321c625d3320c0c496bf4088371546d8fce5f1dd71b219\n",
      "Successfully built mmh3\n",
      "Installing collected packages: mmh3\n",
      "Successfully installed mmh3-2.5.1\n",
      "Collecting string\n",
      "\u001b[31m  Could not find a version that satisfies the requirement string (from versions: )\u001b[0m\n",
      "\u001b[31mNo matching distribution found for string\u001b[0m\n",
      "Collecting uuid\n",
      "  Downloading https://files.pythonhosted.org/packages/ce/63/f42f5aa951ebf2c8dac81f77a8edcc1c218640a2a35a03b9ff2d4aa64c3d/uuid-1.30.tar.gz\n",
      "Building wheels for collected packages: uuid\n",
      "  Building wheel for uuid (setup.py) ... \u001b[?25ldone\n",
      "\u001b[?25h  Stored in directory: /root/.cache/pip/wheels/2a/80/9b/015026567c29fdffe31d91edbe7ba1b17728db79194fca1f21\n",
      "Successfully built uuid\n",
      "Installing collected packages: uuid\n",
      "Successfully installed uuid-1.30\n"
     ]
    },
    {
     "data": {
      "application/vnd.colab-display-data+json": {
       "pip_warning": {
        "packages": [
         "uuid"
        ]
       }
      }
     },
     "metadata": {
      "tags": []
     },
     "output_type": "display_data"
    }
   ],
   "source": [
    "!pip install mmh3\n",
    "!pip install string\n",
    "!pip install uuid"
   ]
  },
  {
   "cell_type": "code",
   "execution_count": null,
   "metadata": {
    "colab": {},
    "colab_type": "code",
    "id": "X2QEg51fTdmt"
   },
   "outputs": [],
   "source": [
    "from __future__ import division\n",
    "import numpy as np\n",
    "import matplotlib.pyplot as plt\n",
    "import seaborn as sns; sns.set()\n",
    "from statistics import median\n",
    "import matplotlib as mpl\n",
    "import math\n",
    "import random\n",
    "import string\n",
    "import mmh3\n",
    "import uuid\n",
    "import time\n",
    "%matplotlib inline"
   ]
  },
  {
   "cell_type": "code",
   "execution_count": null,
   "metadata": {
    "colab": {},
    "colab_type": "code",
    "id": "-_sOhNWiTiki"
   },
   "outputs": [],
   "source": [
    "inp = np.array([abs(mmh3.hash(''.join(random.choices(string.ascii_uppercase + string.digits, k=10)), 1))%100000 for i in range(10**6)])\n",
    "dist_vals, vals_frq = np.unique(inp, return_counts=True)\n",
    "dist_vals, vals_frq = np.array(dist_vals), np.array(vals_frq)"
   ]
  },
  {
   "cell_type": "code",
   "execution_count": null,
   "metadata": {
    "colab": {},
    "colab_type": "code",
    "id": "roEcr-r3RWy6"
   },
   "outputs": [],
   "source": [
    "from google.colab import files\n",
    "files.download('corr.png') "
   ]
  },
  {
   "cell_type": "code",
   "execution_count": null,
   "metadata": {
    "colab": {
     "base_uri": "https://localhost:8080/",
     "height": 376
    },
    "colab_type": "code",
    "executionInfo": {
     "elapsed": 3481,
     "status": "ok",
     "timestamp": 1553704814170,
     "user": {
      "displayName": "HITARTH PANCHAL",
      "photoUrl": "",
      "userId": "00542162096010009427"
     },
     "user_tz": -330
    },
    "id": "AfWhqBzHTlCE",
    "outputId": "88aaebf7-4025-4903-ab08-7dc2d35abe14"
   },
   "outputs": [
    {
     "data": {
      "image/png": "[encoded data removed]",
      "text/plain": [
       "<Figure size 576x396 with 1 Axes>"
      ]
     },
     "metadata": {
      "tags": []
     },
     "output_type": "display_data"
    }
   ],
   "source": [
    "mpl.style.use('seaborn')\n",
    "plt.plot(dist_vals, vals_frq)\n",
    "plt.xlabel('Values')\n",
    "plt.ylabel('Frequency')\n",
    "plt.title('Histogram of Randomly Generated Numbers')\n",
    "plt.savefig(\"uniform.png\")\n",
    "plt.show()"
   ]
  },
  {
   "cell_type": "code",
   "execution_count": null,
   "metadata": {
    "colab": {},
    "colab_type": "code",
    "id": "ylOpRwLgTnHH"
   },
   "outputs": [],
   "source": [
    "mat = np.zeros((50, 10**5))\n",
    "for j in range(mat.shape[0]):\n",
    "    random.seed(0)\n",
    "    for i in range(mat.shape[1]):\n",
    "        rand_string = ''.join(random.choices(string.ascii_uppercase + string.digits, k=10))\n",
    "        mat[j, i] = abs(mmh3.hash(rand_string, j))%1000"
   ]
  },
  {
   "cell_type": "code",
   "execution_count": null,
   "metadata": {
    "colab": {
     "base_uri": "https://localhost:8080/",
     "height": 268
    },
    "colab_type": "code",
    "executionInfo": {
     "elapsed": 26474,
     "status": "ok",
     "timestamp": 1553692393901,
     "user": {
      "displayName": "HITARTH PANCHAL",
      "photoUrl": "",
      "userId": "00542162096010009427"
     },
     "user_tz": -330
    },
    "id": "sswl3E8ETv_Q",
    "outputId": "f2dbfa10-6154-451e-969a-23bdc26e3538"
   },
   "outputs": [
    {
     "data": {
      "image/png": "[encoded data removed]",
      "text/plain": [
       "<Figure size 432x288 with 2 Axes>"
      ]
     },
     "metadata": {
      "tags": []
     },
     "output_type": "display_data"
    }
   ],
   "source": [
    "mat = mat.astype(np.floata64)\n",
    "sns_plot = sns.heatmap(np.corrcoef(mat), vmin=-1, vmax=1, center=0)\n",
    "sns_plot.figure.savefig(\"corr.png\")"
   ]
  },
  {
   "cell_type": "code",
   "execution_count": null,
   "metadata": {
    "colab": {},
    "colab_type": "code",
    "id": "668VMYQwT8zv"
   },
   "outputs": [],
   "source": [
    "def update_bit_vector(list_nums):\n",
    "    global bit_vector\n",
    "    for num in list_nums:\n",
    "        resulted_vector = [0]*params['m']\n",
    "        resulted_vector[num] = 1\n",
    "        bit_vector = [(op1|op2) for op1, op2 in zip(bit_vector, resulted_vector)]"
   ]
  },
  {
   "cell_type": "code",
   "execution_count": null,
   "metadata": {
    "colab": {
     "base_uri": "https://localhost:8080/",
     "height": 108
    },
    "colab_type": "code",
    "executionInfo": {
     "elapsed": 19668,
     "status": "ok",
     "timestamp": 1553713310669,
     "user": {
      "displayName": "HITARTH PANCHAL",
      "photoUrl": "",
      "userId": "00542162096010009427"
     },
     "user_tz": -330
    },
    "id": "6lH4ZjvcYy2g",
    "outputId": "21b82138-e26c-447e-9e0f-4727a181291d"
   },
   "outputs": [
    {
     "name": "stdout",
     "output_type": "stream",
     "text": [
      "Enter input size : 1000\n",
      "Enter error probability : 0.03\n",
      "k : 6\n",
      "m : 7298\n",
      "Time to hash all elements : 5.982492685317993s\n"
     ]
    }
   ],
   "source": [
    "params = {}\n",
    "params['n'] = int(input(\"Enter input size : \"))\n",
    "prob = float(input(\"Enter error probability : \"))\n",
    "params['m'] = int(-params['n']*np.log(prob)*math.pow(np.log(2), -2))\n",
    "params['k'] = int(math.ceil(np.log(2)*(params['m']/float(params['n']))))\n",
    "\n",
    "print(\"k : \" + str(params['k']))\n",
    "print(\"m : \" + str(params['m']))\n",
    "bit_vector = [0]*params['m']\n",
    "\n",
    "start = time.time()\n",
    "for ip in range(params['n']):\n",
    "    rand_string = ''.join(random.choices(string.ascii_uppercase + string.digits, k=10))\n",
    "    seeds = []\n",
    "    for i in range(1,params['k']+1):\n",
    "        seeds.append(abs(mmh3.hash(rand_string, i)) % params['m'])\n",
    "    \n",
    "    update_bit_vector(seeds)\n",
    "    \n",
    "end = time.time()\n",
    "print(\"Time to process all strings : \" + str(end-start) + \"s\")"
   ]
  },
  {
   "cell_type": "code",
   "execution_count": null,
   "metadata": {
    "colab": {},
    "colab_type": "code",
    "id": "e5Ik0NTEqMJR"
   },
   "outputs": [],
   "source": [
    "def check_availability(seeds):\n",
    "    for idx in seeds:\n",
    "        if bit_vector[idx] != 1:\n",
    "            return 0\n",
    "        \n",
    "    return 1"
   ]
  },
  {
   "cell_type": "code",
   "execution_count": null,
   "metadata": {
    "colab": {},
    "colab_type": "code",
    "id": "hlalF5zyMPjg"
   },
   "outputs": [],
   "source": [
    "def monte_carlo_sim():\n",
    "    false_positives = 0\n",
    "    num_examples = 10**6\n",
    "    for i in range(num_examples):\n",
    "        rand_string = str(uuid.uuid1())\n",
    "        seeds = []\n",
    "        for j in range(1,params['k']+1):\n",
    "            seeds.append(abs(mmh3.hash(rand_string, j)) % params['m'])\n",
    "        false_positives += check_availability(seeds)\n",
    "    \n",
    "    return false_positives/float(num_examples)"
   ]
  },
  {
   "cell_type": "code",
   "execution_count": null,
   "metadata": {
    "colab": {
     "base_uri": "https://localhost:8080/",
     "height": 90
    },
    "colab_type": "code",
    "executionInfo": {
     "elapsed": 17907,
     "status": "ok",
     "timestamp": 1553713335510,
     "user": {
      "displayName": "HITARTH PANCHAL",
      "photoUrl": "",
      "userId": "00542162096010009427"
     },
     "user_tz": -330
    },
    "id": "ymbfI1PSx0F8",
    "outputId": "304d36cf-7b7e-4bbd-e241-1d59c34f9969"
   },
   "outputs": [
    {
     "name": "stdout",
     "output_type": "stream",
     "text": [
      "Using simulation false positive error probability : 0.030963\n",
      "Simulation time : 16.51903796195984s\n",
      "Analytically computed false positive error probability :  0.031010286927678345\n",
      "False positive error probability given in Input : 0.03\n"
     ]
    }
   ],
   "source": [
    "start = time.time()\n",
    "sim_val = monte_carlo_sim()\n",
    "end = time.time()\n",
    "print(\"Using simulation false positive error probability : \" + str(sim_val))\n",
    "print(\"Simulation time : \" + str(end-start) + \"s\")\n",
    "analytic_prob = math.pow(1-math.exp(-(params['n']/float(params['m'])*params['k'])), params['k'])\n",
    "print(\"Analytically computed false positive error probability : \", str(analytic_prob))\n",
    "print(\"False positive error probability given in Input : \" + str(prob))"
   ]
  },
  {
   "cell_type": "code",
   "execution_count": null,
   "metadata": {
    "colab": {},
    "colab_type": "code",
    "id": "Yi4sdjREOj9b"
   },
   "outputs": [],
   "source": []
  }
 ],
 "metadata": {
  "colab": {
   "collapsed_sections": [],
   "name": "bloom_filter.ipynb",
   "provenance": [],
   "version": "0.3.2"
  },
  "kernelspec": {
   "display_name": "Python 3",
   "language": "python",
   "name": "python3"
  },
  "language_info": {
   "codemirror_mode": {
    "name": "ipython",
    "version": 3
   },
   "file_extension": ".py",
   "mimetype": "text/x-python",
   "name": "python",
   "nbconvert_exporter": "python",
   "pygments_lexer": "ipython3",
   "version": "3.7.4"
  }
 },
 "nbformat": 4,
 "nbformat_minor": 4
}
